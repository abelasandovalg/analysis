{
 "cells": [
  {
   "cell_type": "markdown",
   "metadata": {},
   "source": [
    "## Diabetic Retinopathy Debrecen Dataset \n",
    "\n",
    "The goal for this analysis is to implement the Naive Bayes and KNN classifers to predict if patients have diabetic retinopathy or not. The dataset contains 1151 instances and 20 attributes (categorical and continuous) and can be found [here](http://archive.ics.uci.edu/ml/datasets/Diabetic+Retinopathy+Debrecen+Data+Set).\n",
    "\n",
    "### Set up Environment "
   ]
  },
  {
   "cell_type": "code",
   "execution_count": 1,
   "metadata": {},
   "outputs": [],
   "source": [
    "# import libraries \n",
    "import warnings\n",
    "import numpy as np\n",
    "import pandas as pd\n",
    "import sklearn as sk\n",
    "import matplotlib.pyplot as plt\n",
    "\n",
    "from sklearn.pipeline import Pipeline\n",
    "from sklearn.decomposition import PCA\n",
    "from sklearn.metrics import roc_curve\n",
    "from sklearn.metrics import roc_auc_score\n",
    "from sklearn.naive_bayes import GaussianNB\n",
    "from sklearn.metrics import confusion_matrix\n",
    "from sklearn.preprocessing import MinMaxScaler\n",
    "from sklearn.model_selection import GridSearchCV\n",
    "from sklearn.metrics import classification_report\n",
    "from sklearn.neighbors import KNeighborsClassifier\n",
    "from sklearn.model_selection import cross_val_score\n",
    "from sklearn.model_selection import train_test_split\n",
    "from sklearn.model_selection import cross_val_predict\n",
    "\n",
    "%matplotlib inline\n",
    "warnings.simplefilter(\"ignore\")"
   ]
  },
  {
   "cell_type": "markdown",
   "metadata": {},
   "source": [
    "### Read in Data "
   ]
  },
  {
   "cell_type": "code",
   "execution_count": 2,
   "metadata": {},
   "outputs": [
    {
     "name": "stdout",
     "output_type": "stream",
     "text": [
      "<class 'pandas.core.frame.DataFrame'>\n",
      "RangeIndex: 1151 entries, 0 to 1150\n",
      "Data columns (total 20 columns):\n",
      " #   Column      Non-Null Count  Dtype  \n",
      "---  ------      --------------  -----  \n",
      " 0   quality     1151 non-null   int64  \n",
      " 1   prescreen   1151 non-null   int64  \n",
      " 2   ma2         1151 non-null   int64  \n",
      " 3   ma3         1151 non-null   int64  \n",
      " 4   ma4         1151 non-null   int64  \n",
      " 5   ma5         1151 non-null   int64  \n",
      " 6   ma6         1151 non-null   int64  \n",
      " 7   ma7         1151 non-null   int64  \n",
      " 8   exudate8    1151 non-null   float64\n",
      " 9   exudate9    1151 non-null   float64\n",
      " 10  exudate10   1151 non-null   float64\n",
      " 11  exudate11   1151 non-null   float64\n",
      " 12  exudate12   1151 non-null   float64\n",
      " 13  exudate13   1151 non-null   float64\n",
      " 14  exudate14   1151 non-null   float64\n",
      " 15  exudate15   1151 non-null   float64\n",
      " 16  eu_dist     1151 non-null   float64\n",
      " 17  diameter    1151 non-null   float64\n",
      " 18  amfm_class  1151 non-null   int64  \n",
      " 19  label       1151 non-null   int64  \n",
      "dtypes: float64(10), int64(10)\n",
      "memory usage: 180.0 KB\n",
      "None\n"
     ]
    },
    {
     "data": {
      "text/html": [
       "<div>\n",
       "<style scoped>\n",
       "    .dataframe tbody tr th:only-of-type {\n",
       "        vertical-align: middle;\n",
       "    }\n",
       "\n",
       "    .dataframe tbody tr th {\n",
       "        vertical-align: top;\n",
       "    }\n",
       "\n",
       "    .dataframe thead th {\n",
       "        text-align: right;\n",
       "    }\n",
       "</style>\n",
       "<table border=\"1\" class=\"dataframe\">\n",
       "  <thead>\n",
       "    <tr style=\"text-align: right;\">\n",
       "      <th></th>\n",
       "      <th>quality</th>\n",
       "      <th>prescreen</th>\n",
       "      <th>ma2</th>\n",
       "      <th>ma3</th>\n",
       "      <th>ma4</th>\n",
       "      <th>ma5</th>\n",
       "      <th>ma6</th>\n",
       "      <th>ma7</th>\n",
       "      <th>exudate8</th>\n",
       "      <th>exudate9</th>\n",
       "      <th>exudate10</th>\n",
       "      <th>exudate11</th>\n",
       "      <th>exudate12</th>\n",
       "      <th>exudate13</th>\n",
       "      <th>exudate14</th>\n",
       "      <th>exudate15</th>\n",
       "      <th>eu_dist</th>\n",
       "      <th>diameter</th>\n",
       "      <th>amfm_class</th>\n",
       "      <th>label</th>\n",
       "    </tr>\n",
       "  </thead>\n",
       "  <tbody>\n",
       "    <tr>\n",
       "      <th>875</th>\n",
       "      <td>1</td>\n",
       "      <td>0</td>\n",
       "      <td>34</td>\n",
       "      <td>34</td>\n",
       "      <td>34</td>\n",
       "      <td>33</td>\n",
       "      <td>31</td>\n",
       "      <td>28</td>\n",
       "      <td>13.632699</td>\n",
       "      <td>7.576963</td>\n",
       "      <td>0.000000</td>\n",
       "      <td>0.000000</td>\n",
       "      <td>0.000000</td>\n",
       "      <td>0.000000</td>\n",
       "      <td>0.000000</td>\n",
       "      <td>0.000000</td>\n",
       "      <td>0.507159</td>\n",
       "      <td>0.116663</td>\n",
       "      <td>0</td>\n",
       "      <td>0</td>\n",
       "    </tr>\n",
       "    <tr>\n",
       "      <th>677</th>\n",
       "      <td>1</td>\n",
       "      <td>1</td>\n",
       "      <td>56</td>\n",
       "      <td>56</td>\n",
       "      <td>56</td>\n",
       "      <td>54</td>\n",
       "      <td>49</td>\n",
       "      <td>25</td>\n",
       "      <td>52.972626</td>\n",
       "      <td>21.611270</td>\n",
       "      <td>8.145465</td>\n",
       "      <td>1.110534</td>\n",
       "      <td>0.041819</td>\n",
       "      <td>0.000000</td>\n",
       "      <td>0.000000</td>\n",
       "      <td>0.000000</td>\n",
       "      <td>0.517072</td>\n",
       "      <td>0.128556</td>\n",
       "      <td>0</td>\n",
       "      <td>0</td>\n",
       "    </tr>\n",
       "    <tr>\n",
       "      <th>16</th>\n",
       "      <td>1</td>\n",
       "      <td>1</td>\n",
       "      <td>105</td>\n",
       "      <td>95</td>\n",
       "      <td>81</td>\n",
       "      <td>66</td>\n",
       "      <td>46</td>\n",
       "      <td>32</td>\n",
       "      <td>123.053484</td>\n",
       "      <td>70.571010</td>\n",
       "      <td>37.409891</td>\n",
       "      <td>19.937253</td>\n",
       "      <td>14.786668</td>\n",
       "      <td>6.114911</td>\n",
       "      <td>2.345740</td>\n",
       "      <td>1.002243</td>\n",
       "      <td>0.524461</td>\n",
       "      <td>0.134247</td>\n",
       "      <td>1</td>\n",
       "      <td>1</td>\n",
       "    </tr>\n",
       "    <tr>\n",
       "      <th>868</th>\n",
       "      <td>1</td>\n",
       "      <td>1</td>\n",
       "      <td>42</td>\n",
       "      <td>42</td>\n",
       "      <td>38</td>\n",
       "      <td>34</td>\n",
       "      <td>29</td>\n",
       "      <td>22</td>\n",
       "      <td>188.842000</td>\n",
       "      <td>109.620980</td>\n",
       "      <td>42.257684</td>\n",
       "      <td>4.227210</td>\n",
       "      <td>0.154783</td>\n",
       "      <td>0.023073</td>\n",
       "      <td>0.001923</td>\n",
       "      <td>0.000961</td>\n",
       "      <td>0.512692</td>\n",
       "      <td>0.093254</td>\n",
       "      <td>1</td>\n",
       "      <td>1</td>\n",
       "    </tr>\n",
       "    <tr>\n",
       "      <th>157</th>\n",
       "      <td>1</td>\n",
       "      <td>1</td>\n",
       "      <td>47</td>\n",
       "      <td>45</td>\n",
       "      <td>45</td>\n",
       "      <td>42</td>\n",
       "      <td>36</td>\n",
       "      <td>26</td>\n",
       "      <td>28.504500</td>\n",
       "      <td>7.675472</td>\n",
       "      <td>1.572641</td>\n",
       "      <td>0.081556</td>\n",
       "      <td>0.000000</td>\n",
       "      <td>0.000000</td>\n",
       "      <td>0.000000</td>\n",
       "      <td>0.000000</td>\n",
       "      <td>0.512511</td>\n",
       "      <td>0.135413</td>\n",
       "      <td>0</td>\n",
       "      <td>1</td>\n",
       "    </tr>\n",
       "    <tr>\n",
       "      <th>848</th>\n",
       "      <td>1</td>\n",
       "      <td>1</td>\n",
       "      <td>64</td>\n",
       "      <td>61</td>\n",
       "      <td>59</td>\n",
       "      <td>52</td>\n",
       "      <td>49</td>\n",
       "      <td>42</td>\n",
       "      <td>32.155976</td>\n",
       "      <td>17.636109</td>\n",
       "      <td>7.703571</td>\n",
       "      <td>1.426416</td>\n",
       "      <td>0.110909</td>\n",
       "      <td>0.009242</td>\n",
       "      <td>0.000000</td>\n",
       "      <td>0.000000</td>\n",
       "      <td>0.515891</td>\n",
       "      <td>0.092424</td>\n",
       "      <td>0</td>\n",
       "      <td>0</td>\n",
       "    </tr>\n",
       "    <tr>\n",
       "      <th>249</th>\n",
       "      <td>1</td>\n",
       "      <td>1</td>\n",
       "      <td>32</td>\n",
       "      <td>32</td>\n",
       "      <td>32</td>\n",
       "      <td>30</td>\n",
       "      <td>27</td>\n",
       "      <td>20</td>\n",
       "      <td>6.216010</td>\n",
       "      <td>1.987275</td>\n",
       "      <td>0.050837</td>\n",
       "      <td>0.000000</td>\n",
       "      <td>0.000000</td>\n",
       "      <td>0.000000</td>\n",
       "      <td>0.000000</td>\n",
       "      <td>0.000000</td>\n",
       "      <td>0.534695</td>\n",
       "      <td>0.095512</td>\n",
       "      <td>0</td>\n",
       "      <td>0</td>\n",
       "    </tr>\n",
       "    <tr>\n",
       "      <th>1045</th>\n",
       "      <td>1</td>\n",
       "      <td>1</td>\n",
       "      <td>24</td>\n",
       "      <td>24</td>\n",
       "      <td>21</td>\n",
       "      <td>20</td>\n",
       "      <td>17</td>\n",
       "      <td>10</td>\n",
       "      <td>112.316034</td>\n",
       "      <td>54.790166</td>\n",
       "      <td>16.021863</td>\n",
       "      <td>2.053484</td>\n",
       "      <td>0.317197</td>\n",
       "      <td>0.074175</td>\n",
       "      <td>0.036112</td>\n",
       "      <td>0.006832</td>\n",
       "      <td>0.522596</td>\n",
       "      <td>0.101503</td>\n",
       "      <td>1</td>\n",
       "      <td>0</td>\n",
       "    </tr>\n",
       "    <tr>\n",
       "      <th>408</th>\n",
       "      <td>1</td>\n",
       "      <td>1</td>\n",
       "      <td>105</td>\n",
       "      <td>97</td>\n",
       "      <td>88</td>\n",
       "      <td>77</td>\n",
       "      <td>66</td>\n",
       "      <td>43</td>\n",
       "      <td>20.800481</td>\n",
       "      <td>5.016614</td>\n",
       "      <td>1.363411</td>\n",
       "      <td>0.216976</td>\n",
       "      <td>0.009233</td>\n",
       "      <td>0.001539</td>\n",
       "      <td>0.001539</td>\n",
       "      <td>0.001539</td>\n",
       "      <td>0.555425</td>\n",
       "      <td>0.112335</td>\n",
       "      <td>0</td>\n",
       "      <td>1</td>\n",
       "    </tr>\n",
       "    <tr>\n",
       "      <th>795</th>\n",
       "      <td>1</td>\n",
       "      <td>1</td>\n",
       "      <td>34</td>\n",
       "      <td>34</td>\n",
       "      <td>34</td>\n",
       "      <td>31</td>\n",
       "      <td>26</td>\n",
       "      <td>19</td>\n",
       "      <td>51.733169</td>\n",
       "      <td>20.030529</td>\n",
       "      <td>6.301271</td>\n",
       "      <td>0.873245</td>\n",
       "      <td>0.064914</td>\n",
       "      <td>0.000000</td>\n",
       "      <td>0.000000</td>\n",
       "      <td>0.000000</td>\n",
       "      <td>0.483298</td>\n",
       "      <td>0.125191</td>\n",
       "      <td>0</td>\n",
       "      <td>0</td>\n",
       "    </tr>\n",
       "  </tbody>\n",
       "</table>\n",
       "</div>"
      ],
      "text/plain": [
       "      quality  prescreen  ma2  ma3  ma4  ma5  ma6  ma7    exudate8  \\\n",
       "875         1          0   34   34   34   33   31   28   13.632699   \n",
       "677         1          1   56   56   56   54   49   25   52.972626   \n",
       "16          1          1  105   95   81   66   46   32  123.053484   \n",
       "868         1          1   42   42   38   34   29   22  188.842000   \n",
       "157         1          1   47   45   45   42   36   26   28.504500   \n",
       "848         1          1   64   61   59   52   49   42   32.155976   \n",
       "249         1          1   32   32   32   30   27   20    6.216010   \n",
       "1045        1          1   24   24   21   20   17   10  112.316034   \n",
       "408         1          1  105   97   88   77   66   43   20.800481   \n",
       "795         1          1   34   34   34   31   26   19   51.733169   \n",
       "\n",
       "        exudate9  exudate10  exudate11  exudate12  exudate13  exudate14  \\\n",
       "875     7.576963   0.000000   0.000000   0.000000   0.000000   0.000000   \n",
       "677    21.611270   8.145465   1.110534   0.041819   0.000000   0.000000   \n",
       "16     70.571010  37.409891  19.937253  14.786668   6.114911   2.345740   \n",
       "868   109.620980  42.257684   4.227210   0.154783   0.023073   0.001923   \n",
       "157     7.675472   1.572641   0.081556   0.000000   0.000000   0.000000   \n",
       "848    17.636109   7.703571   1.426416   0.110909   0.009242   0.000000   \n",
       "249     1.987275   0.050837   0.000000   0.000000   0.000000   0.000000   \n",
       "1045   54.790166  16.021863   2.053484   0.317197   0.074175   0.036112   \n",
       "408     5.016614   1.363411   0.216976   0.009233   0.001539   0.001539   \n",
       "795    20.030529   6.301271   0.873245   0.064914   0.000000   0.000000   \n",
       "\n",
       "      exudate15   eu_dist  diameter  amfm_class  label  \n",
       "875    0.000000  0.507159  0.116663           0      0  \n",
       "677    0.000000  0.517072  0.128556           0      0  \n",
       "16     1.002243  0.524461  0.134247           1      1  \n",
       "868    0.000961  0.512692  0.093254           1      1  \n",
       "157    0.000000  0.512511  0.135413           0      1  \n",
       "848    0.000000  0.515891  0.092424           0      0  \n",
       "249    0.000000  0.534695  0.095512           0      0  \n",
       "1045   0.006832  0.522596  0.101503           1      0  \n",
       "408    0.001539  0.555425  0.112335           0      1  \n",
       "795    0.000000  0.483298  0.125191           0      0  "
      ]
     },
     "execution_count": 2,
     "metadata": {},
     "output_type": "execute_result"
    }
   ],
   "source": [
    "# create list w column names \n",
    "col_names = []\n",
    "for i in range(20):\n",
    "    if i == 0:\n",
    "        col_names.append('quality')\n",
    "    if i == 1:\n",
    "        col_names.append('prescreen')\n",
    "    if i >= 2 and i <= 7:\n",
    "        col_names.append('ma' + str(i))\n",
    "    if i >= 8 and i <= 15:\n",
    "        col_names.append('exudate' + str(i))\n",
    "    if i == 16:\n",
    "        col_names.append('eu_dist')\n",
    "    if i == 17:\n",
    "        col_names.append('diameter')\n",
    "    if i == 18:\n",
    "        col_names.append('amfm_class')\n",
    "    if i == 19:\n",
    "        col_names.append('label')\n",
    "\n",
    "# read in data, add column names \n",
    "data = pd.read_csv(\"messidor_features.txt\", names = col_names)\n",
    "\n",
    "# preview data \n",
    "print(data.info())\n",
    "\n",
    "data.sample(10)"
   ]
  },
  {
   "cell_type": "markdown",
   "metadata": {},
   "source": [
    "### Naive Bayes Classifier \n",
    "\n",
    "The Naive Bayes (NB) classifier is based on the application of the Bayes' theory and assumes a strong independence between features. The Gaussian Naive Bayes algorithm estimates the features using a Gaussian distribution. "
   ]
  },
  {
   "cell_type": "code",
   "execution_count": 3,
   "metadata": {
    "scrolled": true
   },
   "outputs": [
    {
     "name": "stdout",
     "output_type": "stream",
     "text": [
      "(1151,)\n",
      "(1151, 19)\n"
     ]
    }
   ],
   "source": [
    "# separate features and labels \n",
    "labels = data['label']\n",
    "features = data.drop(['label'], axis = 1) \n",
    "\n",
    "# check shape\n",
    "print(labels.shape)\n",
    "print(features.shape)"
   ]
  },
  {
   "cell_type": "code",
   "execution_count": 4,
   "metadata": {},
   "outputs": [
    {
     "name": "stdout",
     "output_type": "stream",
     "text": [
      "accuracy: 0.5977286356821588\n"
     ]
    }
   ],
   "source": [
    "# create naive bayes \n",
    "gnb = GaussianNB()\n",
    "\n",
    "# get cv scores \n",
    "cv_scores = cross_val_score(gnb, features, labels, scoring='accuracy', cv=10)\n",
    "\n",
    "# print results \n",
    "print('accuracy:', cv_scores.mean())"
   ]
  },
  {
   "cell_type": "markdown",
   "metadata": {},
   "source": [
    "The model above came out to about 60% accurate. Now, let's look at the confusion matrix and classification report to asses how the model more in depth.  "
   ]
  },
  {
   "cell_type": "markdown",
   "metadata": {},
   "source": [
    "#### Confusion Matrix and Classification Report "
   ]
  },
  {
   "cell_type": "code",
   "execution_count": 5,
   "metadata": {
    "scrolled": true
   },
   "outputs": [
    {
     "name": "stdout",
     "output_type": "stream",
     "text": [
      "confusion matrix:\n",
      " [[502  38]\n",
      " [425 186]]\n",
      "\n",
      "classification report:\n",
      "\n",
      "               precision    recall  f1-score   support\n",
      "\n",
      "           0       0.54      0.93      0.68       540\n",
      "           1       0.83      0.30      0.45       611\n",
      "\n",
      "    accuracy                           0.60      1151\n",
      "   macro avg       0.69      0.62      0.56      1151\n",
      "weighted avg       0.69      0.60      0.56      1151\n",
      "\n"
     ]
    }
   ],
   "source": [
    "# nb predictions \n",
    "predict = cross_val_predict(gnb, features, labels, cv=10) \n",
    "\n",
    "# confusion matrix \n",
    "cmat = confusion_matrix(labels, predict) \n",
    "\n",
    "# classification report\n",
    "nbreport = classification_report(labels, predict) \n",
    "\n",
    "# print results \n",
    "print('confusion matrix:\\n', cmat) \n",
    "print('\\nclassification report:\\n\\n', nbreport) "
   ]
  },
  {
   "cell_type": "markdown",
   "metadata": {},
   "source": [
    "From our confusion matrix and classification report, we can see the precision, recall, and F1-score. Precision represents the percent of our predictions that were correct and recall represents the percent of positive cases that we identified correctly. The F1-score summarizes both precision and recal into one metric and the closer the F1-score is to 1, the better the model is.\n",
    "\n",
    "#### Receiver Operating Characteristic (ROC) Curve\n",
    "\n",
    "Next, let's look at our Receiver Operating Characteristic (ROC) curve. Generating this curve is a great method to see how a predictive model can distinguish between true positives and true negatives. "
   ]
  },
  {
   "cell_type": "code",
   "execution_count": 6,
   "metadata": {},
   "outputs": [
    {
     "data": {
      "image/png": "[encoded data removed]",
      "text/plain": [
       "<Figure size 432x288 with 1 Axes>"
      ]
     },
     "metadata": {
      "needs_background": "light"
     },
     "output_type": "display_data"
    },
    {
     "name": "stdout",
     "output_type": "stream",
     "text": [
      "Area Under Curve (AUC): 0.6211068702290077\n"
     ]
    }
   ],
   "source": [
    "# split data into train/test sets \n",
    "ltrain, ltest, ftrain, ftest = train_test_split(labels, features, test_size=0.20)\n",
    "\n",
    "# fit data to nb \n",
    "gnb.fit(ftrain, ltrain) \n",
    "\n",
    "# get probability estimates \n",
    "proba = gnb.predict_proba(ftest) \n",
    "\n",
    "# generate roc curve + auc \n",
    "fpr, tpr, thresh = roc_curve(ltest, proba[:, 1])\n",
    "auc = roc_auc_score(ltest, proba[:, 1])\n",
    "\n",
    "# plot ROC curve + print auc \n",
    "plt.plot([0,1],[0,1],'k--') #plot the diagonal line\n",
    "plt.plot(fpr, tpr, label='NB') #plot the ROC curve\n",
    "plt.xlabel('fpr')\n",
    "plt.ylabel('tpr')\n",
    "plt.title('ROC Curve Naive Bayes')\n",
    "plt.show()\n",
    "\n",
    "print('Area Under Curve (AUC):', auc) "
   ]
  },
  {
   "cell_type": "markdown",
   "metadata": {},
   "source": [
    "Our reported AUC is around 0.62, which is considered not the best given that 0.5 denotes a bad classifier and 1 denotes a percet classifier. "
   ]
  },
  {
   "cell_type": "markdown",
   "metadata": {},
   "source": [
    "### K-Nearest Neighbor (KNN) Classifier\n",
    "\n",
    "The KNN Classifier consists of a training stage and a test stage. In the training stage, the classifier takes the training data and memorizes it. In the test stage, the classifier compares the test data with the training data and returns maximum occuring label of the k-nearest data points. For this classifier, Euclidean distance will be used as the distance metric. \n",
    "\n",
    "For NB, the data did not need to be scaled, but it is critical for KNN since it is a distance based algorithm and the scale of the data affects it. "
   ]
  },
  {
   "cell_type": "markdown",
   "metadata": {},
   "source": [
    "#### Standardize Data "
   ]
  },
  {
   "cell_type": "code",
   "execution_count": 7,
   "metadata": {},
   "outputs": [],
   "source": [
    "# create min max scaler \n",
    "scaler = MinMaxScaler([0, 1]) \n",
    "\n",
    "# standardize data\n",
    "features_scaled = scaler.fit_transform(features) "
   ]
  },
  {
   "cell_type": "markdown",
   "metadata": {},
   "source": [
    "#### KNN Classifier "
   ]
  },
  {
   "cell_type": "code",
   "execution_count": 8,
   "metadata": {},
   "outputs": [
    {
     "name": "stdout",
     "output_type": "stream",
     "text": [
      "accuracy: 0.6351124437781108\n",
      "\n",
      "classification report:\n",
      "               precision    recall  f1-score   support\n",
      "\n",
      "           0       0.60      0.65      0.62       540\n",
      "           1       0.67      0.62      0.64       611\n",
      "\n",
      "    accuracy                           0.64      1151\n",
      "   macro avg       0.64      0.64      0.63      1151\n",
      "weighted avg       0.64      0.64      0.64      1151\n",
      "\n"
     ]
    }
   ],
   "source": [
    "# create knn\n",
    "knn = KNeighborsClassifier(5) \n",
    "\n",
    "# fit data \n",
    "knn.fit(features_scaled, labels) \n",
    "\n",
    "# get cv scores\n",
    "cv_scores = cross_val_score(knn, features_scaled, labels, scoring='accuracy', cv=10) \n",
    "\n",
    "# knn predictions \n",
    "predict = cross_val_predict(knn, features_scaled, labels, cv=10)\n",
    "\n",
    "# get classification report \n",
    "knnreport = classification_report(labels, predict) \n",
    "\n",
    "# print results \n",
    "print('accuracy:', cv_scores.mean())\n",
    "print('\\nclassification report:\\n', knnreport)"
   ]
  },
  {
   "cell_type": "markdown",
   "metadata": {},
   "source": [
    "Copmpred to the NB algorithm, KNN classification has much better scores overall. However, the F1-scores are still not the best. \n",
    "\n",
    "For the previous KNN model, k = 5 was used, but now lets use GridSearchCV to find the best parameters for the model. "
   ]
  },
  {
   "cell_type": "code",
   "execution_count": 9,
   "metadata": {},
   "outputs": [
    {
     "name": "stdout",
     "output_type": "stream",
     "text": [
      "best parameters: {'n_neighbors': 23}\n",
      "\n",
      "accuracy: 0.6602923538230885\n"
     ]
    }
   ],
   "source": [
    "# create knn \n",
    "knn = KNeighborsClassifier() \n",
    "\n",
    "# set params\n",
    "params = {'n_neighbors' : [x for x in range(1, 31)]}\n",
    "\n",
    "# create gridsearchcv\n",
    "grid_search = GridSearchCV(knn, params, cv=10, scoring='accuracy')\n",
    "\n",
    "# fit data \n",
    "grid_search.fit(features_scaled, labels) \n",
    "\n",
    "# print results \n",
    "print('best parameters:', grid_search.best_params_)\n",
    "print('\\naccuracy:', grid_search.best_score_) "
   ]
  },
  {
   "cell_type": "markdown",
   "metadata": {},
   "source": [
    "Now, lets run the model using n_neighbors = 23. "
   ]
  },
  {
   "cell_type": "code",
   "execution_count": 10,
   "metadata": {
    "scrolled": true
   },
   "outputs": [
    {
     "name": "stdout",
     "output_type": "stream",
     "text": [
      "accuracy: 0.6602923538230885\n",
      "\n",
      "classification report:\n",
      "               precision    recall  f1-score   support\n",
      "\n",
      "           0       0.62      0.72      0.67       540\n",
      "           1       0.71      0.61      0.65       611\n",
      "\n",
      "    accuracy                           0.66      1151\n",
      "   macro avg       0.66      0.66      0.66      1151\n",
      "weighted avg       0.67      0.66      0.66      1151\n",
      "\n"
     ]
    }
   ],
   "source": [
    "# create knn, k = 23\n",
    "knn = KNeighborsClassifier(23) \n",
    "\n",
    "# fit data \n",
    "knn.fit(features_scaled, labels) \n",
    "\n",
    "# get cv scores\n",
    "cv_scores = cross_val_score(knn, features_scaled, labels, scoring='accuracy', cv=10) \n",
    "\n",
    "# knn predictions \n",
    "predict = cross_val_predict(knn, features_scaled, labels, cv=10)\n",
    "\n",
    "# get classification report \n",
    "knnreport = classification_report(labels, predict) \n",
    "\n",
    "# print results \n",
    "print('accuracy:', cv_scores.mean())\n",
    "print('\\nclassification report:\\n', knnreport)"
   ]
  },
  {
   "cell_type": "markdown",
   "metadata": {},
   "source": [
    "To take this model a step further, lets perform a nested cross-validation. "
   ]
  },
  {
   "cell_type": "code",
   "execution_count": 11,
   "metadata": {},
   "outputs": [
    {
     "name": "stdout",
     "output_type": "stream",
     "text": [
      "accuracy: 0.6550749625187406\n",
      "\n",
      "classification report:\n",
      "               precision    recall  f1-score   support\n",
      "\n",
      "           0       0.61      0.74      0.67       540\n",
      "           1       0.71      0.58      0.64       611\n",
      "\n",
      "    accuracy                           0.66      1151\n",
      "   macro avg       0.66      0.66      0.65      1151\n",
      "weighted avg       0.67      0.66      0.65      1151\n",
      "\n"
     ]
    }
   ],
   "source": [
    "# nested cross validation \n",
    "nested_score = cross_val_score(grid_search, features_scaled, labels, cv=10, scoring='accuracy')\n",
    "\n",
    "# nested cv predictions \n",
    "predict = cross_val_predict(grid_search, features_scaled, labels, cv=10)\n",
    "\n",
    "# get classification report \n",
    "ncvreport = classification_report(labels, predict) \n",
    "\n",
    "# print results \n",
    "print('accuracy:', nested_score.mean())\n",
    "print('\\nclassification report:\\n', ncvreport)"
   ]
  },
  {
   "cell_type": "markdown",
   "metadata": {},
   "source": [
    "To improve our model, a PCA can be used to reduce the dimensionality of our model. KNN suffers from the curse of dimensionality and can perform poorly in higher dimensions.\n",
    "\n",
    "When doing cross-validation, a PCA needs to happen inside the cross-validation loop. To do this, a Pipeline needs to be created and passed into a cross-validation. Once created, it and the parameters can be passed into the GridSearchCV to find the best accuracy and parameters."
   ]
  },
  {
   "cell_type": "code",
   "execution_count": 12,
   "metadata": {},
   "outputs": [
    {
     "name": "stdout",
     "output_type": "stream",
     "text": [
      "best score: 0.6603124411820064\n",
      "\n",
      "best parameters: {'knn__n_neighbors': 23, 'pca__n_components': 13}\n"
     ]
    }
   ],
   "source": [
    "# create models \n",
    "pca = PCA()\n",
    "knn = KNeighborsClassifier()\n",
    "\n",
    "# create pca and knn pipeline \n",
    "pipe = Pipeline(steps=[('pca', pca), ('knn', knn)])\n",
    "\n",
    "# set up parameters \n",
    "params = {\n",
    "    'pca__n_components': list(range(1, 19)), # range of components to keep \n",
    "    'knn__n_neighbors': list(range(1, 30)),  # range of k values \n",
    "    }\n",
    "\n",
    "# create gridsearchcv\n",
    "grid_search = GridSearchCV(pipe, params, cv=5, scoring='accuracy') \n",
    "\n",
    "# fit data \n",
    "grid_search.fit(features_scaled, labels)\n",
    "\n",
    "# print results \n",
    "print('best score:', grid_search.best_score_)\n",
    "print('\\nbest parameters:', grid_search.best_params_) "
   ]
  },
  {
   "cell_type": "markdown",
   "metadata": {},
   "source": [
    "Now, with the best parameters, a GridSearchCV can be passed into another cross-validation loop to do a nested cross-validation and get the accuracy estimate as well as the classification report. "
   ]
  },
  {
   "cell_type": "code",
   "execution_count": 13,
   "metadata": {},
   "outputs": [
    {
     "name": "stdout",
     "output_type": "stream",
     "text": [
      "accuracy: 0.6429098437794091\n",
      "\n",
      "classification report:\n",
      "               precision    recall  f1-score   support\n",
      "\n",
      "           0       0.60      0.72      0.65       540\n",
      "           1       0.70      0.58      0.63       611\n",
      "\n",
      "    accuracy                           0.64      1151\n",
      "   macro avg       0.65      0.65      0.64      1151\n",
      "weighted avg       0.65      0.64      0.64      1151\n",
      "\n"
     ]
    }
   ],
   "source": [
    "# nested cross validation \n",
    "nested_score = cross_val_score(grid_search, features_scaled, labels, cv=5, scoring='accuracy')\n",
    "\n",
    "# nested cv predictions \n",
    "predict = cross_val_predict(grid_search, features_scaled, labels, cv=5)\n",
    "\n",
    "# get classification report \n",
    "ncvreport = classification_report(labels, predict) \n",
    "\n",
    "# print results \n",
    "print('accuracy:', nested_score.mean())\n",
    "print('\\nclassification report:\\n', ncvreport)"
   ]
  },
  {
   "cell_type": "markdown",
   "metadata": {},
   "source": [
    "Overall, the accuracy did not improve much given the optimal parameters. In conclusion, the model is not accurate enough since it woul dbe wrong about 40% of the time. "
   ]
  },
  {
   "cell_type": "code",
   "execution_count": null,
   "metadata": {},
   "outputs": [],
   "source": []
  }
 ],
 "metadata": {
  "kernelspec": {
   "display_name": "portfolio",
   "language": "python",
   "name": "portfolio"
  },
  "language_info": {
   "codemirror_mode": {
    "name": "ipython",
    "version": 3
   },
   "file_extension": ".py",
   "mimetype": "text/x-python",
   "name": "python",
   "nbconvert_exporter": "python",
   "pygments_lexer": "ipython3",
   "version": "3.9.7"
  }
 },
 "nbformat": 4,
 "nbformat_minor": 4
}
